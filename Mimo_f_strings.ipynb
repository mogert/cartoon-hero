{
  "nbformat": 4,
  "nbformat_minor": 0,
  "metadata": {
    "colab": {
      "provenance": [],
      "authorship_tag": "ABX9TyMdcTq05PDuH0HC2X2VVGIs",
      "include_colab_link": true
    },
    "kernelspec": {
      "name": "python3",
      "display_name": "Python 3"
    },
    "language_info": {
      "name": "python"
    }
  },
  "cells": [
    {
      "cell_type": "markdown",
      "metadata": {
        "id": "view-in-github",
        "colab_type": "text"
      },
      "source": [
        "<a href=\"https://colab.research.google.com/github/mogert/cartoon-hero/blob/master/Mimo_f_strings.ipynb\" target=\"_parent\"><img src=\"https://colab.research.google.com/assets/colab-badge.svg\" alt=\"Open In Colab\"/></a>"
      ]
    },
    {
      "cell_type": "markdown",
      "source": [
        "f-strings, short for formatted strings, allow us to display expressions like adding a string to a number, without any error."
      ],
      "metadata": {
        "id": "wVhSQqiDCIaq"
      }
    },
    {
      "cell_type": "markdown",
      "source": [
        "# New section"
      ],
      "metadata": {
        "id": "bjmeUbgDlMns"
      }
    },
    {
      "cell_type": "code",
      "source": [
        "print(f\"{2} new messages\")"
      ],
      "metadata": {
        "id": "b17W9nl395y3",
        "colab": {
          "base_uri": "https://localhost:8080/"
        },
        "outputId": "eda25425-dcdd-4d21-fb35-61847e2c0235"
      },
      "execution_count": null,
      "outputs": [
        {
          "output_type": "stream",
          "name": "stdout",
          "text": [
            "2 new messages\n"
          ]
        }
      ]
    },
    {
      "cell_type": "markdown",
      "source": [
        "We can also use expressions like `new - read` between the curly braces to display their value."
      ],
      "metadata": {
        "id": "atjTCGH2CFcS"
      }
    },
    {
      "cell_type": "code",
      "source": [
        "new = 5\n",
        "read = 2\n",
        "print(f\"{new - read} unread messages\")"
      ],
      "metadata": {
        "colab": {
          "base_uri": "https://localhost:8080/"
        },
        "id": "bavl58QWDhbE",
        "outputId": "319b3e55-d7b8-4a6d-8764-64681ac8d031"
      },
      "execution_count": null,
      "outputs": [
        {
          "output_type": "stream",
          "name": "stdout",
          "text": [
            "3 unread messages\n"
          ]
        }
      ]
    },
    {
      "cell_type": "markdown",
      "source": [
        "To reuse an f-string, we can save it in a variable, like here with `status` and `f\"{new} new messges\"`"
      ],
      "metadata": {
        "id": "37hXIze4ExLP"
      }
    },
    {
      "cell_type": "code",
      "source": [
        "new = 5\n",
        "status = f\"{new} new messages\"\n",
        "print(status)"
      ],
      "metadata": {
        "colab": {
          "base_uri": "https://localhost:8080/"
        },
        "id": "cCWmGFBQFMT4",
        "outputId": "d017b564-01c0-4f25-e01c-e918e00a1874"
      },
      "execution_count": null,
      "outputs": [
        {
          "output_type": "stream",
          "name": "stdout",
          "text": [
            "5 new messages\n"
          ]
        }
      ]
    },
    {
      "cell_type": "markdown",
      "source": [
        "Display the current temperature by coding `degrees` between curly braces"
      ],
      "metadata": {
        "id": "Karld8ZEF5Fc"
      }
    },
    {
      "cell_type": "code",
      "source": [
        "degrees = 70\n",
        "print(f\"Temperature: {degrees}F\")"
      ],
      "metadata": {
        "colab": {
          "base_uri": "https://localhost:8080/"
        },
        "id": "l9VHerk2GCzK",
        "outputId": "d581ccca-2200-4747-f5bd-63dcfa7eb408"
      },
      "execution_count": null,
      "outputs": [
        {
          "output_type": "stream",
          "name": "stdout",
          "text": [
            "Temperature: 70F\n"
          ]
        }
      ]
    },
    {
      "cell_type": "markdown",
      "source": [
        "Save the f-string in the variable `display`"
      ],
      "metadata": {
        "id": "rkDUSMXoGYRm"
      }
    },
    {
      "cell_type": "code",
      "source": [
        "movie = \"Vertigo\"\n",
        "display = f\"Airing tonight: {movie}\"\n",
        "print(display)"
      ],
      "metadata": {
        "colab": {
          "base_uri": "https://localhost:8080/"
        },
        "id": "9DkFDE0vGdkU",
        "outputId": "b195a33d-5106-44f4-fb07-4934fcb1ce3a"
      },
      "execution_count": null,
      "outputs": [
        {
          "output_type": "stream",
          "name": "stdout",
          "text": [
            "Airing tonight: Vertigo\n"
          ]
        }
      ]
    }
  ]
}